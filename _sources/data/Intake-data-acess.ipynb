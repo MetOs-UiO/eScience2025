{
 "cells": [
  {
   "cell_type": "markdown",
   "id": "19adb0e5",
   "metadata": {},
   "source": [
    "# Acessing model data using intake-esm"
   ]
  },
  {
   "cell_type": "markdown",
   "id": "ebb99754",
   "metadata": {},
   "source": [
    "To access the CMIP6 model data and CESM-PPE data we created intake catalogs to help browse and subset the data. The catalogs are stored in shared folder `/mnt/craas2-ns9988k/data/catalogs/`"
   ]
  },
  {
   "cell_type": "code",
   "execution_count": 2,
   "id": "6cc49382",
   "metadata": {
    "ExecuteTime": {
     "end_time": "2024-05-03T12:52:37.748053Z",
     "start_time": "2024-05-03T12:52:36.661135Z"
    }
   },
   "outputs": [],
   "source": [
    "# Importing the required packages\n",
    "import intake\n",
    "import xarray as xr\n",
    "import intake_esm\n",
    "import numpy as np\n",
    "import matplotlib.pyplot as plt\n",
    "\n",
    "import warnings\n",
    "warnings.filterwarnings(\"ignore\")"
   ]
  },
  {
   "cell_type": "markdown",
   "id": "d942de23",
   "metadata": {},
   "source": [
    "## Reading and browsing the catalog"
   ]
  },
  {
   "cell_type": "code",
   "execution_count": 4,
   "id": "b5a4b54e",
   "metadata": {
    "ExecuteTime": {
     "end_time": "2024-05-03T12:52:40.300156Z",
     "start_time": "2024-05-03T12:52:37.749697Z"
    }
   },
   "outputs": [
    {
     "data": {
      "text/html": [
       "<p><strong>cmip6 catalog with 155 dataset(s) from 536945 asset(s)</strong>:</p> <div>\n",
       "<style scoped>\n",
       "    .dataframe tbody tr th:only-of-type {\n",
       "        vertical-align: middle;\n",
       "    }\n",
       "\n",
       "    .dataframe tbody tr th {\n",
       "        vertical-align: top;\n",
       "    }\n",
       "\n",
       "    .dataframe thead th {\n",
       "        text-align: right;\n",
       "    }\n",
       "</style>\n",
       "<table border=\"1\" class=\"dataframe\">\n",
       "  <thead>\n",
       "    <tr style=\"text-align: right;\">\n",
       "      <th></th>\n",
       "      <th>unique</th>\n",
       "    </tr>\n",
       "  </thead>\n",
       "  <tbody>\n",
       "    <tr>\n",
       "      <th>variable_id</th>\n",
       "      <td>583</td>\n",
       "    </tr>\n",
       "    <tr>\n",
       "      <th>table_id</th>\n",
       "      <td>24</td>\n",
       "    </tr>\n",
       "    <tr>\n",
       "      <th>source_id</th>\n",
       "      <td>75</td>\n",
       "    </tr>\n",
       "    <tr>\n",
       "      <th>experiment_id</th>\n",
       "      <td>94</td>\n",
       "    </tr>\n",
       "    <tr>\n",
       "      <th>member_id</th>\n",
       "      <td>190</td>\n",
       "    </tr>\n",
       "    <tr>\n",
       "      <th>grid_label</th>\n",
       "      <td>11</td>\n",
       "    </tr>\n",
       "    <tr>\n",
       "      <th>time_range</th>\n",
       "      <td>9100</td>\n",
       "    </tr>\n",
       "    <tr>\n",
       "      <th>activity_id</th>\n",
       "      <td>18</td>\n",
       "    </tr>\n",
       "    <tr>\n",
       "      <th>institution_id</th>\n",
       "      <td>35</td>\n",
       "    </tr>\n",
       "    <tr>\n",
       "      <th>version</th>\n",
       "      <td>577</td>\n",
       "    </tr>\n",
       "    <tr>\n",
       "      <th>path</th>\n",
       "      <td>536945</td>\n",
       "    </tr>\n",
       "    <tr>\n",
       "      <th>dcpp_init_year</th>\n",
       "      <td>0</td>\n",
       "    </tr>\n",
       "    <tr>\n",
       "      <th>derived_variable_id</th>\n",
       "      <td>0</td>\n",
       "    </tr>\n",
       "  </tbody>\n",
       "</table>\n",
       "</div>"
      ],
      "text/plain": [
       "<IPython.core.display.HTML object>"
      ]
     },
     "metadata": {},
     "output_type": "display_data"
    }
   ],
   "source": [
    "# Open the catalog\n",
    "\n",
    "# col = intake.open_esm_datastore('https://storage.googleapis.com/cmip6/pangeo-cmip6.json') # Remote Pangeo\n",
    "# they are also catalogs abailable in the shared read-only data-space. \n",
    "col = intake.open_esm_datastore('/mnt/craas2-ns9988k/data/catalogs/cmip6.json') # Local data (+pangeo) stored on NIRD\n",
    "col"
   ]
  },
  {
   "cell_type": "markdown",
   "id": "87ac0d3a",
   "metadata": {},
   "source": [
    "Under the hood `intake-esm` uses a large table csv, which contains some metadata and the paths of where to find it. The data can be stored both locally or in a remote cloud storage i.e `pangeo-cloud`. \n",
    "\n",
    "```{note}\n",
    "Since the paths listed in the csv table are absolute, notebook starting from the same catalog can be run from any directory, without needing to change the in side the notebook paths. \n",
    "```\n",
    "\n",
    " "
   ]
  },
  {
   "cell_type": "markdown",
   "id": "2d06c631",
   "metadata": {},
   "source": [
    "### Browsing the catalog: Comparing the change in AOD over the historical period across CMIP6 models"
   ]
  },
  {
   "cell_type": "markdown",
   "id": "086257e3",
   "metadata": {},
   "source": [
    "The keywords when browsing is columns of the table, e.g. `variable_id`, `source_uid` etc. To list all the keys available for a given key word you can use the `col.unique()['<keyword>']` function. "
   ]
  },
  {
   "cell_type": "code",
   "execution_count": 5,
   "id": "a7c13523",
   "metadata": {
    "ExecuteTime": {
     "end_time": "2024-05-03T12:52:40.378558Z",
     "start_time": "2024-05-03T12:52:40.301719Z"
    }
   },
   "outputs": [
    {
     "data": {
      "text/html": [
       "<p><strong>cmip6 catalog with 9 dataset(s) from 190 asset(s)</strong>:</p> <div>\n",
       "<style scoped>\n",
       "    .dataframe tbody tr th:only-of-type {\n",
       "        vertical-align: middle;\n",
       "    }\n",
       "\n",
       "    .dataframe tbody tr th {\n",
       "        vertical-align: top;\n",
       "    }\n",
       "\n",
       "    .dataframe thead th {\n",
       "        text-align: right;\n",
       "    }\n",
       "</style>\n",
       "<table border=\"1\" class=\"dataframe\">\n",
       "  <thead>\n",
       "    <tr style=\"text-align: right;\">\n",
       "      <th></th>\n",
       "      <th>unique</th>\n",
       "    </tr>\n",
       "  </thead>\n",
       "  <tbody>\n",
       "    <tr>\n",
       "      <th>variable_id</th>\n",
       "      <td>1</td>\n",
       "    </tr>\n",
       "    <tr>\n",
       "      <th>table_id</th>\n",
       "      <td>1</td>\n",
       "    </tr>\n",
       "    <tr>\n",
       "      <th>source_id</th>\n",
       "      <td>9</td>\n",
       "    </tr>\n",
       "    <tr>\n",
       "      <th>experiment_id</th>\n",
       "      <td>1</td>\n",
       "    </tr>\n",
       "    <tr>\n",
       "      <th>member_id</th>\n",
       "      <td>4</td>\n",
       "    </tr>\n",
       "    <tr>\n",
       "      <th>grid_label</th>\n",
       "      <td>3</td>\n",
       "    </tr>\n",
       "    <tr>\n",
       "      <th>time_range</th>\n",
       "      <td>185</td>\n",
       "    </tr>\n",
       "    <tr>\n",
       "      <th>activity_id</th>\n",
       "      <td>2</td>\n",
       "    </tr>\n",
       "    <tr>\n",
       "      <th>institution_id</th>\n",
       "      <td>9</td>\n",
       "    </tr>\n",
       "    <tr>\n",
       "      <th>version</th>\n",
       "      <td>9</td>\n",
       "    </tr>\n",
       "    <tr>\n",
       "      <th>path</th>\n",
       "      <td>190</td>\n",
       "    </tr>\n",
       "    <tr>\n",
       "      <th>dcpp_init_year</th>\n",
       "      <td>0</td>\n",
       "    </tr>\n",
       "    <tr>\n",
       "      <th>derived_variable_id</th>\n",
       "      <td>0</td>\n",
       "    </tr>\n",
       "  </tbody>\n",
       "</table>\n",
       "</div>"
      ],
      "text/plain": [
       "<IPython.core.display.HTML object>"
      ]
     },
     "metadata": {},
     "output_type": "display_data"
    }
   ],
   "source": [
    "col = col.search(\n",
    "    variable_id='od550aer',\n",
    "    experiment_id='histSST'\n",
    ")\n",
    "col"
   ]
  },
  {
   "cell_type": "markdown",
   "id": "02c3df7a",
   "metadata": {},
   "source": [
    "Models available for this request:"
   ]
  },
  {
   "cell_type": "code",
   "execution_count": 6,
   "id": "efab3400",
   "metadata": {
    "ExecuteTime": {
     "end_time": "2024-05-03T12:52:40.397129Z",
     "start_time": "2024-05-03T12:52:40.380735Z"
    }
   },
   "outputs": [
    {
     "data": {
      "text/plain": [
       "['CNRM-ESM2-1',\n",
       " 'MPI-ESM-1-2-HAM',\n",
       " 'MIROC6',\n",
       " 'UKESM1-0-LL',\n",
       " 'MRI-ESM2-0',\n",
       " 'GISS-E2-1-G',\n",
       " 'CESM2-WACCM',\n",
       " 'GFDL-ESM4',\n",
       " 'EC-Earth3-AerChem']"
      ]
     },
     "execution_count": 6,
     "metadata": {},
     "output_type": "execute_result"
    }
   ],
   "source": [
    "col.unique()['source_id']"
   ]
  },
  {
   "cell_type": "markdown",
   "id": "46a4275a",
   "metadata": {},
   "source": [
    "## Loading the data and plotting"
   ]
  },
  {
   "cell_type": "markdown",
   "id": "b551425b",
   "metadata": {},
   "source": [
    "```{warning}\n",
    "The catalog can be huge, always query and subset catalog before loading the data. Preferably down to level of experiment and variable.\n",
    "```"
   ]
  },
  {
   "cell_type": "markdown",
   "id": "6ae7f5dc",
   "metadata": {},
   "source": [
    "The `.to_dataset_dict` function can accept an optional preprocessing function which can be used to harmonize the datasets, temporal resampling, or slicing.\n",
    "Below we made a preprocessing function for resampling the data into annual means and calculate the global average to allow for easily plotting the time series. \n",
    "\n",
    "\n"
   ]
  },
  {
   "cell_type": "code",
   "execution_count": 7,
   "id": "314301c0",
   "metadata": {
    "ExecuteTime": {
     "end_time": "2024-05-03T12:52:40.401898Z",
     "start_time": "2024-05-03T12:52:40.398453Z"
    }
   },
   "outputs": [],
   "source": [
    "def resample_calculate_and_global_avg(ds):\n",
    "    \"\"\"\n",
    "    Function to resample the data to annual mean and calculate the global average.\n",
    "    \"\"\"\n",
    "    ds=ds.resample(time='YE').mean() # Resample to annual mean\n",
    "    ds = ds.drop_vars(['lat_bnds','lon_bnds'], errors='ignore') # create conflict when calculating global average\n",
    "    weights = np.cos(np.deg2rad(ds.lat)) # Make weighted global average\n",
    "    ds_weighted = ds.weighted(weights)\n",
    "    weighted_mean = ds_weighted.mean(dim=['lon','lat'])\n",
    "    \n",
    "    return weighted_mean"
   ]
  },
  {
   "cell_type": "markdown",
   "id": "1c04e261",
   "metadata": {},
   "source": [
    "\n",
    "The processing can be done in parallel using dask, which can speed things up a bit.  \n",
    "The dask cluster below is constrained within the resource each user have available.\n",
    "The corresponding dask cluster panel can be viewed by clicking on the dask icon <img src=\"https://upload.wikimedia.org/wikipedia/commons/1/12/Dask_Logo.svg\" alt=\"\" width=\"30\" height=\"30\"> on the left-side panel.\n",
    "```python\n",
    "from dask.distributed import Client, LocalCluster\n",
    "client = Client(LocalCluster(n_workers=4, threads_per_worker=1, memory_limit='12GB'))\n",
    "```\n",
    "Don't forget to close the client after you done with `client.shutdown()`.\n"
   ]
  },
  {
   "cell_type": "code",
   "execution_count": 8,
   "id": "3fd710d7",
   "metadata": {
    "ExecuteTime": {
     "end_time": "2024-05-03T12:52:53.705645Z",
     "start_time": "2024-05-03T12:52:40.403088Z"
    }
   },
   "outputs": [
    {
     "name": "stdout",
     "output_type": "stream",
     "text": [
      "\n",
      "--> The keys in the returned dictionary of datasets are constructed as follows:\n",
      "\t'activity_id.institution_id'\n"
     ]
    },
    {
     "data": {
      "text/html": [
       "\n",
       "<style>\n",
       "    /* Turns off some styling */\n",
       "    progress {\n",
       "        /* gets rid of default border in Firefox and Opera. */\n",
       "        border: none;\n",
       "        /* Needs to be in here for Safari polyfill so background images work as expected. */\n",
       "        background-size: auto;\n",
       "    }\n",
       "    progress:not([value]), progress:not([value])::-webkit-progress-bar {\n",
       "        background: repeating-linear-gradient(45deg, #7e7e7e, #7e7e7e 10px, #5c5c5c 10px, #5c5c5c 20px);\n",
       "    }\n",
       "    .progress-bar-interrupted, .progress-bar-interrupted::-webkit-progress-bar {\n",
       "        background: #F44336;\n",
       "    }\n",
       "</style>\n"
      ],
      "text/plain": [
       "<IPython.core.display.HTML object>"
      ]
     },
     "metadata": {},
     "output_type": "display_data"
    },
    {
     "data": {
      "text/html": [
       "\n",
       "    <div>\n",
       "      <progress value='9' class='' max='9' style='width:300px; height:20px; vertical-align: middle;'></progress>\n",
       "      100.00% [9/9 00:13&lt;00:00]\n",
       "    </div>\n",
       "    "
      ],
      "text/plain": [
       "<IPython.core.display.HTML object>"
      ]
     },
     "metadata": {},
     "output_type": "display_data"
    }
   ],
   "source": [
    "# dataset_dict = col.to_dataset_dict()\n",
    "dataset_dict = col.to_dataset_dict(xarray_open_kwargs={'use_cftime':True, 'chunks':{'time':48}}, \n",
    "                           aggregate=True,\n",
    "                           preprocess=resample_calculate_and_global_avg,\n",
    "                           skip_on_error=True,\n",
    "                           xarray_combine_by_coords={'combine_attrs': 'override'} \n",
    "                          )\n"
   ]
  },
  {
   "cell_type": "markdown",
   "id": "014fcfcd",
   "metadata": {},
   "source": [
    "Without the providing a `preprocess` function the time aggregated output as dictionary with grouped by the following keys  `\"activity_id\"`, `\"institution_id\"`, `\"source_id\"`, `\"experiment_id\"`, `\"table_id\"`, `\"grid_label\"`.       "
   ]
  },
  {
   "cell_type": "code",
   "execution_count": 9,
   "id": "1b2d8bef",
   "metadata": {
    "ExecuteTime": {
     "end_time": "2024-05-03T12:53:00.664439Z",
     "start_time": "2024-05-03T12:52:53.707734Z"
    },
    "tags": [
     "hide-output"
    ]
   },
   "outputs": [
    {
     "name": "stdout",
     "output_type": "stream",
     "text": [
      "\n",
      "--> The keys in the returned dictionary of datasets are constructed as follows:\n",
      "\t'activity_id.institution_id'\n"
     ]
    },
    {
     "data": {
      "text/html": [
       "\n",
       "<style>\n",
       "    /* Turns off some styling */\n",
       "    progress {\n",
       "        /* gets rid of default border in Firefox and Opera. */\n",
       "        border: none;\n",
       "        /* Needs to be in here for Safari polyfill so background images work as expected. */\n",
       "        background-size: auto;\n",
       "    }\n",
       "    progress:not([value]), progress:not([value])::-webkit-progress-bar {\n",
       "        background: repeating-linear-gradient(45deg, #7e7e7e, #7e7e7e 10px, #5c5c5c 10px, #5c5c5c 20px);\n",
       "    }\n",
       "    .progress-bar-interrupted, .progress-bar-interrupted::-webkit-progress-bar {\n",
       "        background: #F44336;\n",
       "    }\n",
       "</style>\n"
      ],
      "text/plain": [
       "<IPython.core.display.HTML object>"
      ]
     },
     "metadata": {},
     "output_type": "display_data"
    },
    {
     "data": {
      "text/html": [
       "\n",
       "    <div>\n",
       "      <progress value='9' class='' max='9' style='width:300px; height:20px; vertical-align: middle;'></progress>\n",
       "      100.00% [9/9 00:06&lt;00:00]\n",
       "    </div>\n",
       "    "
      ],
      "text/plain": [
       "<IPython.core.display.HTML object>"
      ]
     },
     "metadata": {},
     "output_type": "display_data"
    },
    {
     "data": {
      "text/plain": [
       "{'AerChemMIP.MRI': <xarray.Dataset> Size: 406MB\n",
       " Dimensions:     (time: 1980, bnds: 2, lat: 160, lon: 320, member_id: 1)\n",
       " Coordinates:\n",
       "   * time        (time) object 16kB 1850-01-16 12:00:00 ... 2014-12-16 12:00:00\n",
       "   * lat         (lat) float64 1kB -89.14 -88.03 -86.91 ... 86.91 88.03 89.14\n",
       "   * lon         (lon) float64 3kB 0.0 1.125 2.25 3.375 ... 356.6 357.8 358.9\n",
       "     wavelength  float64 8B ...\n",
       "   * member_id   (member_id) object 8B 'r1i1p1f1'\n",
       " Dimensions without coordinates: bnds\n",
       " Data variables:\n",
       "     time_bnds   (time, bnds) object 32kB dask.array<chunksize=(48, 2), meta=np.ndarray>\n",
       "     lat_bnds    (lat, bnds) float64 3kB dask.array<chunksize=(160, 2), meta=np.ndarray>\n",
       "     lon_bnds    (lon, bnds) float64 5kB dask.array<chunksize=(320, 2), meta=np.ndarray>\n",
       "     od550aer    (member_id, time, lat, lon) float32 406MB dask.array<chunksize=(1, 48, 160, 320), meta=np.ndarray>\n",
       " Attributes: (12/59)\n",
       "     Conventions:                      CF-1.7 CMIP-6.2\n",
       "     activity_id:                      AerChemMIP\n",
       "     branch_method:                    standard (the actual parent run: RFMIP ...\n",
       "     branch_time_in_child:             0.0\n",
       "     branch_time_in_parent:            0.0\n",
       "     comment:                          This od550aer includes AOD from stratos...\n",
       "     ...                               ...\n",
       "     intake_esm_attrs:activity_id:     AerChemMIP\n",
       "     intake_esm_attrs:institution_id:  MRI\n",
       "     intake_esm_attrs:version:         v20200207\n",
       "     intake_esm_attrs:path:            /mnt/craas2-ns9988k-dl-ns9560k/ESGF/CMI...\n",
       "     intake_esm_attrs:_data_format_:   netcdf\n",
       "     intake_esm_dataset_key:           AerChemMIP.MRI,\n",
       " 'AerChemMIP.CNRM-CERFACS': <xarray.Dataset> Size: 260MB\n",
       " Dimensions:      (lat: 128, lon: 256, time: 1980, axis_nbounds: 2, member_id: 1)\n",
       " Coordinates:\n",
       "   * lat          (lat) float64 1kB -88.93 -87.54 -86.14 ... 86.14 87.54 88.93\n",
       "   * lon          (lon) float64 2kB 0.0 1.406 2.812 4.219 ... 355.8 357.2 358.6\n",
       "   * time         (time) object 16kB 1850-01-16 12:00:00 ... 2014-12-16 12:00:00\n",
       "   * member_id    (member_id) object 8B 'r1i1p1f2'\n",
       " Dimensions without coordinates: axis_nbounds\n",
       " Data variables:\n",
       "     time_bounds  (time, axis_nbounds) object 32kB dask.array<chunksize=(48, 2), meta=np.ndarray>\n",
       "     od550aer     (member_id, time, lat, lon) float32 260MB dask.array<chunksize=(1, 48, 128, 256), meta=np.ndarray>\n",
       " Attributes: (12/65)\n",
       "     Conventions:                      CF-1.7 CMIP-6.2\n",
       "     creation_date:                    2018-08-08T14:22:32Z\n",
       "     description:                      Historical transient with SSTs prescrib...\n",
       "     title:                            CNRM-ESM2-1 model output prepared for C...\n",
       "     activity_id:                      AerChemMIP\n",
       "     contact:                          contact.cmip@meteo.fr\n",
       "     ...                               ...\n",
       "     intake_esm_attrs:activity_id:     AerChemMIP\n",
       "     intake_esm_attrs:institution_id:  CNRM-CERFACS\n",
       "     intake_esm_attrs:version:         v20190621\n",
       "     intake_esm_attrs:path:            /mnt/craas2-ns9988k-dl-ns9560k/ESGF/CMI...\n",
       "     intake_esm_attrs:_data_format_:   netcdf\n",
       "     intake_esm_dataset_key:           AerChemMIP.CNRM-CERFACS,\n",
       " 'AerChemMIP.NOAA-GFDL': <xarray.Dataset> Size: 411MB\n",
       " Dimensions:    (bnds: 2, lat: 180, lon: 288, member_id: 1, time: 1980)\n",
       " Coordinates:\n",
       "   * bnds       (bnds) float64 16B 1.0 2.0\n",
       "   * lat        (lat) float64 1kB -89.5 -88.5 -87.5 -86.5 ... 86.5 87.5 88.5 89.5\n",
       "     lat_bnds   (lat, bnds) float64 3kB dask.array<chunksize=(180, 2), meta=np.ndarray>\n",
       "   * lon        (lon) float64 2kB 0.625 1.875 3.125 4.375 ... 356.9 358.1 359.4\n",
       "     lon_bnds   (lon, bnds) float64 5kB dask.array<chunksize=(288, 2), meta=np.ndarray>\n",
       "   * time       (time) object 16kB 1850-01-16 12:00:00 ... 2014-12-16 12:00:00\n",
       "     time_bnds  (time, bnds) object 32kB dask.array<chunksize=(48, 2), meta=np.ndarray>\n",
       "   * member_id  (member_id) object 8B 'r1i1p1f1'\n",
       " Data variables:\n",
       "     od550aer   (member_id, time, lat, lon) float32 411MB dask.array<chunksize=(1, 48, 180, 288), meta=np.ndarray>\n",
       " Attributes: (12/56)\n",
       "     external_variables:               areacella\n",
       "     history:                          File was processed by fremetar (GFDL an...\n",
       "     table_id:                         AERmon\n",
       "     activity_id:                      AerChemMIP\n",
       "     branch_method:                    atmospheric and land state taken from p...\n",
       "     branch_time_in_child:             0.0\n",
       "     ...                               ...\n",
       "     intake_esm_attrs:grid_label:      gr1\n",
       "     intake_esm_attrs:activity_id:     AerChemMIP\n",
       "     intake_esm_attrs:institution_id:  NOAA-GFDL\n",
       "     intake_esm_attrs:version:         v20180701\n",
       "     intake_esm_attrs:_data_format_:   netcdf\n",
       "     intake_esm_dataset_key:           AerChemMIP.NOAA-GFDL,\n",
       " 'AerChemMIP.NCAR': <xarray.Dataset> Size: 438MB\n",
       " Dimensions:    (member_id: 1, time: 1980, lat: 192, lon: 288, nbnd: 2)\n",
       " Coordinates:\n",
       "   * lat        (lat) float64 2kB -90.0 -89.06 -88.12 -87.17 ... 88.12 89.06 90.0\n",
       "   * lon        (lon) float64 2kB 0.0 1.25 2.5 3.75 ... 355.0 356.2 357.5 358.8\n",
       "   * time       (time) object 16kB 1850-01-15 12:00:00 ... 2014-12-15 12:00:00\n",
       "     time_bnds  (time, nbnd) object 32kB dask.array<chunksize=(48, 2), meta=np.ndarray>\n",
       "     lat_bnds   (lat, nbnd) float32 2kB dask.array<chunksize=(192, 2), meta=np.ndarray>\n",
       "     lon_bnds   (lon, nbnd) float32 2kB dask.array<chunksize=(288, 2), meta=np.ndarray>\n",
       "   * member_id  (member_id) object 8B 'r1i2p1f1'\n",
       " Dimensions without coordinates: nbnd\n",
       " Data variables:\n",
       "     od550aer   (member_id, time, lat, lon) float32 438MB dask.array<chunksize=(1, 48, 192, 288), meta=np.ndarray>\n",
       " Attributes: (12/56)\n",
       "     Conventions:                      CF-1.7 CMIP-6.2\n",
       "     activity_id:                      AerChemMIP\n",
       "     branch_method:                    no parent\n",
       "     branch_time_in_child:             674885.0\n",
       "     branch_time_in_parent:            0.0\n",
       "     case_id:                          47\n",
       "     ...                               ...\n",
       "     intake_esm_attrs:grid_label:      gn\n",
       "     intake_esm_attrs:activity_id:     AerChemMIP\n",
       "     intake_esm_attrs:institution_id:  NCAR\n",
       "     intake_esm_attrs:version:         v20190531\n",
       "     intake_esm_attrs:_data_format_:   netcdf\n",
       "     intake_esm_dataset_key:           AerChemMIP.NCAR,\n",
       " 'AerChemMIP.NASA-GISS': <xarray.Dataset> Size: 103MB\n",
       " Dimensions:    (time: 1980, bnds: 2, lat: 90, lon: 144, member_id: 1)\n",
       " Coordinates:\n",
       "   * time       (time) object 16kB 1850-01-16 12:00:00 ... 2014-12-16 12:00:00\n",
       "     time_bnds  (time, bnds) object 32kB dask.array<chunksize=(48, 2), meta=np.ndarray>\n",
       "   * lat        (lat) float64 720B -89.0 -87.0 -85.0 -83.0 ... 85.0 87.0 89.0\n",
       "     lat_bnds   (lat, bnds) float64 1kB dask.array<chunksize=(90, 2), meta=np.ndarray>\n",
       "   * lon        (lon) float64 1kB 1.25 3.75 6.25 8.75 ... 351.2 353.8 356.2 358.8\n",
       "     lon_bnds   (lon, bnds) float64 2kB dask.array<chunksize=(144, 2), meta=np.ndarray>\n",
       "   * member_id  (member_id) object 8B 'r1i1p3f1'\n",
       " Dimensions without coordinates: bnds\n",
       " Data variables:\n",
       "     od550aer   (member_id, time, lat, lon) float32 103MB dask.array<chunksize=(1, 48, 90, 144), meta=np.ndarray>\n",
       " Attributes: (12/56)\n",
       "     Conventions:                      CF-1.7 CMIP-6.2\n",
       "     activity_id:                      AerChemMIP\n",
       "     branch_method:                    standard\n",
       "     branch_time_in_child:             0.0\n",
       "     branch_time_in_parent:            0.0\n",
       "     contact:                          Kenneth Lo (cdkkl@giss.nasa.gov)\n",
       "     ...                               ...\n",
       "     intake_esm_attrs:grid_label:      gn\n",
       "     intake_esm_attrs:activity_id:     AerChemMIP\n",
       "     intake_esm_attrs:institution_id:  NASA-GISS\n",
       "     intake_esm_attrs:version:         v20191120\n",
       "     intake_esm_attrs:_data_format_:   netcdf\n",
       "     intake_esm_dataset_key:           AerChemMIP.NASA-GISS,\n",
       " 'AerChemMIP.MIROC': <xarray.Dataset> Size: 260MB\n",
       " Dimensions:     (time: 1980, bnds: 2, lat: 128, lon: 256, member_id: 1)\n",
       " Coordinates:\n",
       "   * time        (time) object 16kB 1850-01-16 12:00:00 ... 2014-12-16 12:00:00\n",
       "     time_bnds   (time, bnds) object 32kB dask.array<chunksize=(48, 2), meta=np.ndarray>\n",
       "   * lat         (lat) float64 1kB -88.93 -87.54 -86.14 ... 86.14 87.54 88.93\n",
       "     lat_bnds    (lat, bnds) float64 2kB dask.array<chunksize=(128, 2), meta=np.ndarray>\n",
       "   * lon         (lon) float64 2kB 0.0 1.406 2.812 4.219 ... 355.8 357.2 358.6\n",
       "     lon_bnds    (lon, bnds) float64 4kB dask.array<chunksize=(256, 2), meta=np.ndarray>\n",
       "     wavelength  float64 8B 550.0\n",
       "   * member_id   (member_id) object 8B 'r1i1p1f1'\n",
       " Dimensions without coordinates: bnds\n",
       " Data variables:\n",
       "     od550aer    (member_id, time, lat, lon) float32 260MB dask.array<chunksize=(1, 48, 128, 256), meta=np.ndarray>\n",
       " Attributes: (12/53)\n",
       "     Conventions:                      CF-1.7 CMIP-6.2\n",
       "     activity_id:                      AerChemMIP\n",
       "     branch_method:                    standard\n",
       "     branch_time_in_child:             0.0\n",
       "     branch_time_in_parent:            0.0\n",
       "     data_specs_version:               01.00.31\n",
       "     ...                               ...\n",
       "     intake_esm_attrs:grid_label:      gn\n",
       "     intake_esm_attrs:activity_id:     AerChemMIP\n",
       "     intake_esm_attrs:institution_id:  MIROC\n",
       "     intake_esm_attrs:version:         v20190828\n",
       "     intake_esm_attrs:_data_format_:   netcdf\n",
       "     intake_esm_dataset_key:           AerChemMIP.MIROC,\n",
       " 'AerChemMIP.MOHC': <xarray.Dataset> Size: 219MB\n",
       " Dimensions:     (time: 1980, bnds: 2, lat: 144, lon: 192, member_id: 1)\n",
       " Coordinates:\n",
       "   * time        (time) object 16kB 1850-01-16 00:00:00 ... 2014-12-16 00:00:00\n",
       "     time_bnds   (time, bnds) object 32kB dask.array<chunksize=(48, 2), meta=np.ndarray>\n",
       "   * lat         (lat) float64 1kB -89.38 -88.12 -86.88 ... 86.88 88.12 89.38\n",
       "     lat_bnds    (lat, bnds) float64 2kB dask.array<chunksize=(144, 2), meta=np.ndarray>\n",
       "   * lon         (lon) float64 2kB 0.9375 2.812 4.688 6.562 ... 355.3 357.2 359.1\n",
       "     lon_bnds    (lon, bnds) float64 3kB dask.array<chunksize=(192, 2), meta=np.ndarray>\n",
       "     wavelength  float64 8B 550.0\n",
       "   * member_id   (member_id) object 8B 'r1i1p1f2'\n",
       " Dimensions without coordinates: bnds\n",
       " Data variables:\n",
       "     od550aer    (member_id, time, lat, lon) float32 219MB dask.array<chunksize=(1, 48, 144, 192), meta=np.ndarray>\n",
       " Attributes: (12/56)\n",
       "     Conventions:                      CF-1.7 CMIP-6.2\n",
       "     activity_id:                      AerChemMIP\n",
       "     branch_time_in_child:             0.0\n",
       "     data_specs_version:               01.00.29\n",
       "     experiment:                       historical prescribed SSTs and historic...\n",
       "     experiment_id:                    histSST\n",
       "     ...                               ...\n",
       "     intake_esm_attrs:grid_label:      gn\n",
       "     intake_esm_attrs:activity_id:     AerChemMIP\n",
       "     intake_esm_attrs:institution_id:  MOHC\n",
       "     intake_esm_attrs:version:         v20190902\n",
       "     intake_esm_attrs:_data_format_:   netcdf\n",
       "     intake_esm_dataset_key:           AerChemMIP.MOHC,\n",
       " 'AerChemMIP.HAMMOZ-Consortium': <xarray.Dataset> Size: 146MB\n",
       " Dimensions:     (time: 1980, bnds: 2, lat: 96, lon: 192, member_id: 1)\n",
       " Coordinates:\n",
       "   * time        (time) object 16kB 1850-01-16 12:00:00 ... 2014-12-16 12:00:00\n",
       "     time_bnds   (time, bnds) object 32kB dask.array<chunksize=(48, 2), meta=np.ndarray>\n",
       "   * lat         (lat) float64 768B -88.57 -86.72 -84.86 ... 84.86 86.72 88.57\n",
       "     lat_bnds    (lat, bnds) float64 2kB dask.array<chunksize=(96, 2), meta=np.ndarray>\n",
       "   * lon         (lon) float64 2kB 0.0 1.875 3.75 5.625 ... 354.4 356.2 358.1\n",
       "     lon_bnds    (lon, bnds) float64 3kB dask.array<chunksize=(192, 2), meta=np.ndarray>\n",
       "     wavelength  float64 8B 550.0\n",
       "   * member_id   (member_id) object 8B 'r1i1p1f1'\n",
       " Dimensions without coordinates: bnds\n",
       " Data variables:\n",
       "     od550aer    (member_id, time, lat, lon) float32 146MB dask.array<chunksize=(1, 48, 96, 192), meta=np.ndarray>\n",
       " Attributes: (12/57)\n",
       "     CDO:                              Climate Data Operators version 1.9.9rc8...\n",
       "     Conventions:                      CF-1.7 CMIP-6.2\n",
       "     activity_id:                      AerChemMIP\n",
       "     branch_method:                    standard\n",
       "     branch_time_in_child:             0.0\n",
       "     branch_time_in_parent:            0.0\n",
       "     ...                               ...\n",
       "     intake_esm_attrs:grid_label:      gn\n",
       "     intake_esm_attrs:activity_id:     AerChemMIP\n",
       "     intake_esm_attrs:institution_id:  HAMMOZ-Consortium\n",
       "     intake_esm_attrs:version:         v20190628\n",
       "     intake_esm_attrs:_data_format_:   netcdf\n",
       "     intake_esm_dataset_key:           AerChemMIP.HAMMOZ-Consortium,\n",
       " 'CMIP.EC-Earth-Consortium': <xarray.Dataset> Size: 86MB\n",
       " Dimensions:     (time: 1980, bnds: 2, lat: 90, lon: 120, member_id: 1)\n",
       " Coordinates:\n",
       "   * time        (time) object 16kB 1850-01-16 12:00:00 ... 2014-12-16 12:00:00\n",
       "     time_bnds   (time, bnds) object 32kB dask.array<chunksize=(12, 2), meta=np.ndarray>\n",
       "   * lat         (lat) float64 720B -89.0 -87.0 -85.0 -83.0 ... 85.0 87.0 89.0\n",
       "     lat_bnds    (lat, bnds) float64 1kB dask.array<chunksize=(90, 2), meta=np.ndarray>\n",
       "   * lon         (lon) float64 960B 1.5 4.5 7.5 10.5 ... 349.5 352.5 355.5 358.5\n",
       "     lon_bnds    (lon, bnds) float64 2kB dask.array<chunksize=(120, 2), meta=np.ndarray>\n",
       "     wavelength  float64 8B 550.0\n",
       "   * member_id   (member_id) object 8B 'r1i1p1f1'\n",
       " Dimensions without coordinates: bnds\n",
       " Data variables:\n",
       "     od550aer    (member_id, time, lat, lon) float32 86MB dask.array<chunksize=(1, 12, 90, 120), meta=np.ndarray>\n",
       " Attributes: (12/57)\n",
       "     Conventions:                        CF-1.7 CMIP-6.2\n",
       "     activity_id:                        AerChemMIP\n",
       "     branch_method:                      standard\n",
       "     branch_time_in_child:               0.0\n",
       "     branch_time_in_parent:              0.0\n",
       "     contact:                            cmip6-data@ec-earth.org\n",
       "     ...                                 ...\n",
       "     intake_esm_attrs:grid_label:        gn\n",
       "     intake_esm_attrs:activity_id:       CMIP\n",
       "     intake_esm_attrs:institution_id:    EC-Earth-Consortium\n",
       "     intake_esm_attrs:version:           v20210309\n",
       "     intake_esm_attrs:_data_format_:     netcdf\n",
       "     intake_esm_dataset_key:             CMIP.EC-Earth-Consortium}"
      ]
     },
     "execution_count": 9,
     "metadata": {},
     "output_type": "execute_result"
    }
   ],
   "source": [
    "col.to_dataset_dict(xarray_open_kwargs={'use_cftime':True, 'chunks':{'time':48}}, \n",
    "                           aggregate=True,\n",
    "                           skip_on_error=True,\n",
    "                           xarray_combine_by_coords={'combine_attrs': 'override'} \n",
    "                          )"
   ]
  },
  {
   "cell_type": "markdown",
   "id": "92cbf62a",
   "metadata": {},
   "source": [
    "Preprocess dictionary only contain the time series, which is easy to loop over and plot for each model. "
   ]
  },
  {
   "cell_type": "code",
   "execution_count": 10,
   "id": "5da56331",
   "metadata": {
    "ExecuteTime": {
     "end_time": "2024-05-03T12:53:00.676386Z",
     "start_time": "2024-05-03T12:53:00.666493Z"
    }
   },
   "outputs": [
    {
     "data": {
      "text/plain": [
       "{'AerChemMIP.NASA-GISS': <xarray.Dataset> Size: 3kB\n",
       " Dimensions:    (time: 165, member_id: 1)\n",
       " Coordinates:\n",
       "   * time       (time) object 1kB 1850-12-31 00:00:00 ... 2014-12-31 00:00:00\n",
       "   * member_id  (member_id) object 8B 'r1i1p3f1'\n",
       " Data variables:\n",
       "     od550aer   (member_id, time) float64 1kB dask.array<chunksize=(1, 4), meta=np.ndarray>\n",
       " Attributes:\n",
       "     intake_esm_vars:                  ['od550aer']\n",
       "     intake_esm_attrs:variable_id:     od550aer\n",
       "     intake_esm_attrs:table_id:        AERmon\n",
       "     intake_esm_attrs:source_id:       GISS-E2-1-G\n",
       "     intake_esm_attrs:experiment_id:   histSST\n",
       "     intake_esm_attrs:member_id:       r1i1p3f1\n",
       "     intake_esm_attrs:grid_label:      gn\n",
       "     intake_esm_attrs:activity_id:     AerChemMIP\n",
       "     intake_esm_attrs:institution_id:  NASA-GISS\n",
       "     intake_esm_attrs:version:         v20191120\n",
       "     intake_esm_attrs:_data_format_:   netcdf\n",
       "     intake_esm_dataset_key:           AerChemMIP.NASA-GISS,\n",
       " 'AerChemMIP.CNRM-CERFACS': <xarray.Dataset> Size: 3kB\n",
       " Dimensions:    (time: 165, member_id: 1)\n",
       " Coordinates:\n",
       "   * time       (time) object 1kB 1850-12-31 00:00:00 ... 2014-12-31 00:00:00\n",
       "   * member_id  (member_id) object 8B 'r1i1p1f2'\n",
       " Data variables:\n",
       "     od550aer   (member_id, time) float64 1kB dask.array<chunksize=(1, 4), meta=np.ndarray>\n",
       " Attributes: (12/14)\n",
       "     intake_esm_vars:                  ['od550aer']\n",
       "     intake_esm_attrs:variable_id:     od550aer\n",
       "     intake_esm_attrs:table_id:        AERmon\n",
       "     intake_esm_attrs:source_id:       CNRM-ESM2-1\n",
       "     intake_esm_attrs:experiment_id:   histSST\n",
       "     intake_esm_attrs:member_id:       r1i1p1f2\n",
       "     ...                               ...\n",
       "     intake_esm_attrs:activity_id:     AerChemMIP\n",
       "     intake_esm_attrs:institution_id:  CNRM-CERFACS\n",
       "     intake_esm_attrs:version:         v20190621\n",
       "     intake_esm_attrs:path:            /mnt/craas2-ns9988k-dl-ns9560k/ESGF/CMI...\n",
       "     intake_esm_attrs:_data_format_:   netcdf\n",
       "     intake_esm_dataset_key:           AerChemMIP.CNRM-CERFACS,\n",
       " 'AerChemMIP.NCAR': <xarray.Dataset> Size: 3kB\n",
       " Dimensions:    (time: 165, member_id: 1)\n",
       " Coordinates:\n",
       "   * time       (time) object 1kB 1850-12-31 00:00:00 ... 2014-12-31 00:00:00\n",
       "   * member_id  (member_id) object 8B 'r1i2p1f1'\n",
       " Data variables:\n",
       "     od550aer   (member_id, time) float64 1kB dask.array<chunksize=(1, 4), meta=np.ndarray>\n",
       " Attributes:\n",
       "     intake_esm_vars:                  ['od550aer']\n",
       "     intake_esm_attrs:variable_id:     od550aer\n",
       "     intake_esm_attrs:table_id:        AERmon\n",
       "     intake_esm_attrs:source_id:       CESM2-WACCM\n",
       "     intake_esm_attrs:experiment_id:   histSST\n",
       "     intake_esm_attrs:member_id:       r1i2p1f1\n",
       "     intake_esm_attrs:grid_label:      gn\n",
       "     intake_esm_attrs:activity_id:     AerChemMIP\n",
       "     intake_esm_attrs:institution_id:  NCAR\n",
       "     intake_esm_attrs:version:         v20190531\n",
       "     intake_esm_attrs:_data_format_:   netcdf\n",
       "     intake_esm_dataset_key:           AerChemMIP.NCAR,\n",
       " 'AerChemMIP.NOAA-GFDL': <xarray.Dataset> Size: 3kB\n",
       " Dimensions:    (time: 165, member_id: 1)\n",
       " Coordinates:\n",
       "   * time       (time) object 1kB 1850-12-31 00:00:00 ... 2014-12-31 00:00:00\n",
       "   * member_id  (member_id) object 8B 'r1i1p1f1'\n",
       " Data variables:\n",
       "     od550aer   (member_id, time) float64 1kB dask.array<chunksize=(1, 4), meta=np.ndarray>\n",
       " Attributes:\n",
       "     intake_esm_vars:                  ['od550aer']\n",
       "     intake_esm_attrs:variable_id:     od550aer\n",
       "     intake_esm_attrs:table_id:        AERmon\n",
       "     intake_esm_attrs:source_id:       GFDL-ESM4\n",
       "     intake_esm_attrs:experiment_id:   histSST\n",
       "     intake_esm_attrs:member_id:       r1i1p1f1\n",
       "     intake_esm_attrs:grid_label:      gr1\n",
       "     intake_esm_attrs:activity_id:     AerChemMIP\n",
       "     intake_esm_attrs:institution_id:  NOAA-GFDL\n",
       "     intake_esm_attrs:version:         v20180701\n",
       "     intake_esm_attrs:_data_format_:   netcdf\n",
       "     intake_esm_dataset_key:           AerChemMIP.NOAA-GFDL,\n",
       " 'AerChemMIP.MRI': <xarray.Dataset> Size: 3kB\n",
       " Dimensions:     (time: 165, member_id: 1)\n",
       " Coordinates:\n",
       "     wavelength  float64 8B 550.0\n",
       "   * time        (time) object 1kB 1850-12-31 00:00:00 ... 2014-12-31 00:00:00\n",
       "   * member_id   (member_id) object 8B 'r1i1p1f1'\n",
       " Data variables:\n",
       "     od550aer    (member_id, time) float64 1kB dask.array<chunksize=(1, 4), meta=np.ndarray>\n",
       " Attributes: (12/14)\n",
       "     intake_esm_vars:                  ['od550aer']\n",
       "     intake_esm_attrs:variable_id:     od550aer\n",
       "     intake_esm_attrs:table_id:        AERmon\n",
       "     intake_esm_attrs:source_id:       MRI-ESM2-0\n",
       "     intake_esm_attrs:experiment_id:   histSST\n",
       "     intake_esm_attrs:member_id:       r1i1p1f1\n",
       "     ...                               ...\n",
       "     intake_esm_attrs:activity_id:     AerChemMIP\n",
       "     intake_esm_attrs:institution_id:  MRI\n",
       "     intake_esm_attrs:version:         v20200207\n",
       "     intake_esm_attrs:path:            /mnt/craas2-ns9988k-dl-ns9560k/ESGF/CMI...\n",
       "     intake_esm_attrs:_data_format_:   netcdf\n",
       "     intake_esm_dataset_key:           AerChemMIP.MRI,\n",
       " 'AerChemMIP.HAMMOZ-Consortium': <xarray.Dataset> Size: 3kB\n",
       " Dimensions:     (time: 165, member_id: 1)\n",
       " Coordinates:\n",
       "     wavelength  float64 8B 550.0\n",
       "   * time        (time) object 1kB 1850-12-31 00:00:00 ... 2014-12-31 00:00:00\n",
       "   * member_id   (member_id) object 8B 'r1i1p1f1'\n",
       " Data variables:\n",
       "     od550aer    (member_id, time) float64 1kB dask.array<chunksize=(1, 4), meta=np.ndarray>\n",
       " Attributes:\n",
       "     intake_esm_vars:                  ['od550aer']\n",
       "     intake_esm_attrs:variable_id:     od550aer\n",
       "     intake_esm_attrs:table_id:        AERmon\n",
       "     intake_esm_attrs:source_id:       MPI-ESM-1-2-HAM\n",
       "     intake_esm_attrs:experiment_id:   histSST\n",
       "     intake_esm_attrs:member_id:       r1i1p1f1\n",
       "     intake_esm_attrs:grid_label:      gn\n",
       "     intake_esm_attrs:activity_id:     AerChemMIP\n",
       "     intake_esm_attrs:institution_id:  HAMMOZ-Consortium\n",
       "     intake_esm_attrs:version:         v20190628\n",
       "     intake_esm_attrs:_data_format_:   netcdf\n",
       "     intake_esm_dataset_key:           AerChemMIP.HAMMOZ-Consortium,\n",
       " 'AerChemMIP.MOHC': <xarray.Dataset> Size: 3kB\n",
       " Dimensions:     (time: 165, member_id: 1)\n",
       " Coordinates:\n",
       "     wavelength  float64 8B 550.0\n",
       "   * time        (time) object 1kB 1850-12-30 00:00:00 ... 2014-12-30 00:00:00\n",
       "   * member_id   (member_id) object 8B 'r1i1p1f2'\n",
       " Data variables:\n",
       "     od550aer    (member_id, time) float64 1kB dask.array<chunksize=(1, 4), meta=np.ndarray>\n",
       " Attributes:\n",
       "     intake_esm_vars:                  ['od550aer']\n",
       "     intake_esm_attrs:variable_id:     od550aer\n",
       "     intake_esm_attrs:table_id:        AERmon\n",
       "     intake_esm_attrs:source_id:       UKESM1-0-LL\n",
       "     intake_esm_attrs:experiment_id:   histSST\n",
       "     intake_esm_attrs:member_id:       r1i1p1f2\n",
       "     intake_esm_attrs:grid_label:      gn\n",
       "     intake_esm_attrs:activity_id:     AerChemMIP\n",
       "     intake_esm_attrs:institution_id:  MOHC\n",
       "     intake_esm_attrs:version:         v20190902\n",
       "     intake_esm_attrs:_data_format_:   netcdf\n",
       "     intake_esm_dataset_key:           AerChemMIP.MOHC,\n",
       " 'AerChemMIP.MIROC': <xarray.Dataset> Size: 3kB\n",
       " Dimensions:     (time: 165, member_id: 1)\n",
       " Coordinates:\n",
       "     wavelength  float64 8B 550.0\n",
       "   * time        (time) object 1kB 1850-12-31 00:00:00 ... 2014-12-31 00:00:00\n",
       "   * member_id   (member_id) object 8B 'r1i1p1f1'\n",
       " Data variables:\n",
       "     od550aer    (member_id, time) float64 1kB dask.array<chunksize=(1, 4), meta=np.ndarray>\n",
       " Attributes:\n",
       "     intake_esm_vars:                  ['od550aer']\n",
       "     intake_esm_attrs:variable_id:     od550aer\n",
       "     intake_esm_attrs:table_id:        AERmon\n",
       "     intake_esm_attrs:source_id:       MIROC6\n",
       "     intake_esm_attrs:experiment_id:   histSST\n",
       "     intake_esm_attrs:member_id:       r1i1p1f1\n",
       "     intake_esm_attrs:grid_label:      gn\n",
       "     intake_esm_attrs:activity_id:     AerChemMIP\n",
       "     intake_esm_attrs:institution_id:  MIROC\n",
       "     intake_esm_attrs:version:         v20190828\n",
       "     intake_esm_attrs:_data_format_:   netcdf\n",
       "     intake_esm_dataset_key:           AerChemMIP.MIROC,\n",
       " 'CMIP.EC-Earth-Consortium': <xarray.Dataset> Size: 3kB\n",
       " Dimensions:     (time: 165, member_id: 1)\n",
       " Coordinates:\n",
       "     wavelength  float64 8B 550.0\n",
       "   * time        (time) object 1kB 1850-12-31 00:00:00 ... 2014-12-31 00:00:00\n",
       "   * member_id   (member_id) object 8B 'r1i1p1f1'\n",
       " Data variables:\n",
       "     od550aer    (member_id, time) float64 1kB dask.array<chunksize=(1, 1), meta=np.ndarray>\n",
       " Attributes:\n",
       "     intake_esm_vars:                  ['od550aer']\n",
       "     intake_esm_attrs:variable_id:     od550aer\n",
       "     intake_esm_attrs:table_id:        AERmon\n",
       "     intake_esm_attrs:source_id:       EC-Earth3-AerChem\n",
       "     intake_esm_attrs:experiment_id:   histSST\n",
       "     intake_esm_attrs:member_id:       r1i1p1f1\n",
       "     intake_esm_attrs:grid_label:      gn\n",
       "     intake_esm_attrs:activity_id:     CMIP\n",
       "     intake_esm_attrs:institution_id:  EC-Earth-Consortium\n",
       "     intake_esm_attrs:version:         v20210309\n",
       "     intake_esm_attrs:_data_format_:   netcdf\n",
       "     intake_esm_dataset_key:           CMIP.EC-Earth-Consortium}"
      ]
     },
     "execution_count": 10,
     "metadata": {},
     "output_type": "execute_result"
    }
   ],
   "source": [
    "dataset_dict"
   ]
  },
  {
   "cell_type": "code",
   "execution_count": 11,
   "id": "2bf4c27a",
   "metadata": {
    "ExecuteTime": {
     "end_time": "2024-05-03T12:54:52.226978Z",
     "start_time": "2024-05-03T12:53:00.677955Z"
    }
   },
   "outputs": [
    {
     "data": {
      "text/plain": [
       "<matplotlib.legend.Legend at 0x7fb75ca60410>"
      ]
     },
     "execution_count": 11,
     "metadata": {},
     "output_type": "execute_result"
    },
    {
     "data": {
      "image/png": "[encoded data removed]",
      "text/plain": [
       "<Figure size 1000x600 with 1 Axes>"
      ]
     },
     "metadata": {},
     "output_type": "display_data"
    }
   ],
   "source": [
    "fig,ax = plt.subplots(figsize=(10,6))\n",
    "for datakey, data in dataset_dict.items(): # Looping over ever varable in the dictionary\n",
    "    source_id = data.attrs['intake_esm_attrs:source_id']\n",
    "    member_id = data.attrs['intake_esm_attrs:member_id']\n",
    "    data['od550aer'].isel(member_id=0).plot(label=f'{source_id} {member_id}', ax=ax)\n",
    "\n",
    "ax.legend()\n",
    "    "
   ]
  },
  {
   "cell_type": "markdown",
   "id": "2ecfe25e",
   "metadata": {},
   "source": [
    "### Exporting a subset of the catalog"
   ]
  },
  {
   "cell_type": "markdown",
   "id": "18e01884",
   "metadata": {},
   "source": [
    "Most likely you will only be analyzing a small subset of experiments the model experiment and it could be beneficial to work with a reduced catalog. \n",
    "Below we will make a subset that only contain the information related to `histSST` and `histSST-piaer`, and only the absorption optical depth (`od550abs`) and total optical depth (`od550aer`). "
   ]
  },
  {
   "cell_type": "code",
   "execution_count": 34,
   "id": "d4d015f4",
   "metadata": {
    "ExecuteTime": {
     "end_time": "2024-05-03T12:54:53.492592Z",
     "start_time": "2024-05-03T12:54:52.229732Z"
    }
   },
   "outputs": [],
   "source": [
    "import os\n",
    "col = intake.open_esm_datastore('./cmip6.json') # Local data stored on NIRD  catalog file in this folder"
   ]
  },
  {
   "cell_type": "code",
   "execution_count": 35,
   "id": "3e57386d",
   "metadata": {
    "ExecuteTime": {
     "end_time": "2024-05-03T12:54:53.645026Z",
     "start_time": "2024-05-03T12:54:53.493934Z"
    }
   },
   "outputs": [
    {
     "data": {
      "text/html": [
       "<p><strong>cmip6 catalog with 9 dataset(s) from 190 asset(s)</strong>:</p> <div>\n",
       "<style scoped>\n",
       "    .dataframe tbody tr th:only-of-type {\n",
       "        vertical-align: middle;\n",
       "    }\n",
       "\n",
       "    .dataframe tbody tr th {\n",
       "        vertical-align: top;\n",
       "    }\n",
       "\n",
       "    .dataframe thead th {\n",
       "        text-align: right;\n",
       "    }\n",
       "</style>\n",
       "<table border=\"1\" class=\"dataframe\">\n",
       "  <thead>\n",
       "    <tr style=\"text-align: right;\">\n",
       "      <th></th>\n",
       "      <th>unique</th>\n",
       "    </tr>\n",
       "  </thead>\n",
       "  <tbody>\n",
       "    <tr>\n",
       "      <th>variable_id</th>\n",
       "      <td>1</td>\n",
       "    </tr>\n",
       "    <tr>\n",
       "      <th>table_id</th>\n",
       "      <td>1</td>\n",
       "    </tr>\n",
       "    <tr>\n",
       "      <th>source_id</th>\n",
       "      <td>9</td>\n",
       "    </tr>\n",
       "    <tr>\n",
       "      <th>experiment_id</th>\n",
       "      <td>1</td>\n",
       "    </tr>\n",
       "    <tr>\n",
       "      <th>member_id</th>\n",
       "      <td>4</td>\n",
       "    </tr>\n",
       "    <tr>\n",
       "      <th>grid_label</th>\n",
       "      <td>3</td>\n",
       "    </tr>\n",
       "    <tr>\n",
       "      <th>time_range</th>\n",
       "      <td>185</td>\n",
       "    </tr>\n",
       "    <tr>\n",
       "      <th>activity_id</th>\n",
       "      <td>2</td>\n",
       "    </tr>\n",
       "    <tr>\n",
       "      <th>institution_id</th>\n",
       "      <td>9</td>\n",
       "    </tr>\n",
       "    <tr>\n",
       "      <th>version</th>\n",
       "      <td>9</td>\n",
       "    </tr>\n",
       "    <tr>\n",
       "      <th>path</th>\n",
       "      <td>190</td>\n",
       "    </tr>\n",
       "    <tr>\n",
       "      <th>dcpp_init_year</th>\n",
       "      <td>0</td>\n",
       "    </tr>\n",
       "    <tr>\n",
       "      <th>derived_variable_id</th>\n",
       "      <td>0</td>\n",
       "    </tr>\n",
       "  </tbody>\n",
       "</table>\n",
       "</div>"
      ],
      "text/plain": [
       "<IPython.core.display.HTML object>"
      ]
     },
     "metadata": {},
     "output_type": "display_data"
    }
   ],
   "source": [
    "col = col.search(    \n",
    "    experiment_id=['histSST', 'histSST-piaer'],\n",
    "    variable_id = ['od550abs', 'od550aer']\n",
    ")\n",
    "col"
   ]
  },
  {
   "cell_type": "markdown",
   "id": "d5678e30",
   "metadata": {},
   "source": [
    "Then when we are happy with the selection the catalog can be exported as follows:"
   ]
  },
  {
   "cell_type": "code",
   "execution_count": 36,
   "id": "8131074a",
   "metadata": {
    "ExecuteTime": {
     "end_time": "2024-05-03T12:54:53.652854Z",
     "start_time": "2024-05-03T12:54:53.646372Z"
    }
   },
   "outputs": [
    {
     "name": "stdout",
     "output_type": "stream",
     "text": [
      "Successfully wrote ESM catalog json file to: file:///home/fc-3auid-3a41f39e02-2da958-2d4d3b-2d84bd-2d4a2f2886a11b//histSST-AerChemMIP.json\n"
     ]
    }
   ],
   "source": [
    "col.serialize(name='histSST-AerChemMIP',catalog_type='file',directory='~/')"
   ]
  },
  {
   "cell_type": "code",
   "execution_count": 37,
   "id": "90b4c58e",
   "metadata": {
    "ExecuteTime": {
     "end_time": "2024-05-03T12:54:53.675734Z",
     "start_time": "2024-05-03T12:54:53.654084Z"
    }
   },
   "outputs": [
    {
     "data": {
      "text/html": [
       "<p><strong>histSST-AerChemMIP catalog with 9 dataset(s) from 190 asset(s)</strong>:</p> <div>\n",
       "<style scoped>\n",
       "    .dataframe tbody tr th:only-of-type {\n",
       "        vertical-align: middle;\n",
       "    }\n",
       "\n",
       "    .dataframe tbody tr th {\n",
       "        vertical-align: top;\n",
       "    }\n",
       "\n",
       "    .dataframe thead th {\n",
       "        text-align: right;\n",
       "    }\n",
       "</style>\n",
       "<table border=\"1\" class=\"dataframe\">\n",
       "  <thead>\n",
       "    <tr style=\"text-align: right;\">\n",
       "      <th></th>\n",
       "      <th>unique</th>\n",
       "    </tr>\n",
       "  </thead>\n",
       "  <tbody>\n",
       "    <tr>\n",
       "      <th>variable_id</th>\n",
       "      <td>1</td>\n",
       "    </tr>\n",
       "    <tr>\n",
       "      <th>table_id</th>\n",
       "      <td>1</td>\n",
       "    </tr>\n",
       "    <tr>\n",
       "      <th>source_id</th>\n",
       "      <td>9</td>\n",
       "    </tr>\n",
       "    <tr>\n",
       "      <th>experiment_id</th>\n",
       "      <td>1</td>\n",
       "    </tr>\n",
       "    <tr>\n",
       "      <th>member_id</th>\n",
       "      <td>4</td>\n",
       "    </tr>\n",
       "    <tr>\n",
       "      <th>grid_label</th>\n",
       "      <td>3</td>\n",
       "    </tr>\n",
       "    <tr>\n",
       "      <th>time_range</th>\n",
       "      <td>185</td>\n",
       "    </tr>\n",
       "    <tr>\n",
       "      <th>activity_id</th>\n",
       "      <td>2</td>\n",
       "    </tr>\n",
       "    <tr>\n",
       "      <th>institution_id</th>\n",
       "      <td>9</td>\n",
       "    </tr>\n",
       "    <tr>\n",
       "      <th>version</th>\n",
       "      <td>9</td>\n",
       "    </tr>\n",
       "    <tr>\n",
       "      <th>path</th>\n",
       "      <td>190</td>\n",
       "    </tr>\n",
       "    <tr>\n",
       "      <th>dcpp_init_year</th>\n",
       "      <td>0</td>\n",
       "    </tr>\n",
       "    <tr>\n",
       "      <th>derived_variable_id</th>\n",
       "      <td>0</td>\n",
       "    </tr>\n",
       "  </tbody>\n",
       "</table>\n",
       "</div>"
      ],
      "text/plain": [
       "<IPython.core.display.HTML object>"
      ]
     },
     "metadata": {},
     "output_type": "display_data"
    }
   ],
   "source": [
    "col = intake.open_esm_datastore('~/histSST-AerChemMIP.json')\n",
    "col"
   ]
  }
 ],
 "metadata": {
  "celltoolbar": "Edit Metadata",
  "kernelspec": {
   "display_name": "Python [conda env:pangeo-notebook]",
   "language": "python",
   "name": "conda-env-pangeo-notebook-py"
  },
  "language_info": {
   "codemirror_mode": {
    "name": "ipython",
    "version": 3
   },
   "file_extension": ".py",
   "mimetype": "text/x-python",
   "name": "python",
   "nbconvert_exporter": "python",
   "pygments_lexer": "ipython3",
   "version": "3.11.8"
  },
  "toc": {
   "base_numbering": 1,
   "nav_menu": {},
   "number_sections": true,
   "sideBar": true,
   "skip_h1_title": false,
   "title_cell": "Table of Contents",
   "title_sidebar": "Contents",
   "toc_cell": false,
   "toc_position": {},
   "toc_section_display": true,
   "toc_window_display": false
  }
 },
 "nbformat": 4,
 "nbformat_minor": 5
}
