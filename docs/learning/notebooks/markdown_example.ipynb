{
 "cells": [
  {
   "cell_type": "markdown",
   "id": "028448b2",
   "metadata": {},
   "source": [
    "# How to use Markdown in Jupyter notebook"
   ]
  },
  {
   "cell_type": "markdown",
   "id": "bec033e3",
   "metadata": {},
   "source": [
    "\n",
    "Markdown is a language for text-formatting, it is used a lot, everywhere. F.e. on github in comments/issues/pull-requests, in jupyternootbooks, documentation online f.e. with myst or sphinx, readthedocs, anywhere you see a README.md file.\n",
    "\n",
    "You can find syntax guides, cheatsheets and more all over the web. F.e. here: [cheatsheet](https://www.markdownguide.org/cheat-sheet/), [basic syntax](https://www.markdownguide.org/basic-syntax/) or [here](https://jupyter-notebook.readthedocs.io/en/stable/examples/Notebook/Working%20With%20Markdown%20Cells.html) or [here](https://www.ibm.com/docs/en/watson-studio-local/1.2.3?topic=notebooks-markdown-jupyter-cheatsheet)"
   ]
  },
  {
   "cell_type": "markdown",
   "id": "8399c44d",
   "metadata": {},
   "source": [
    "Jupyter notebooks, also allow you tu directly use HTML language. If you open your notebook as a text file, you will see that it is just a JSON file and `output` values of the cells you have executed is actually just bunch of HTML. Cheatsheets above have some HTML tips as well."
   ]
  },
  {
   "cell_type": "markdown",
   "id": "421e925b",
   "metadata": {},
   "source": [
    "Here are for example, some pretty things you can use in your notebook:\n",
    "\n",
    "<div class=\"alert alert-block alert-danger\">\n",
    "<b>AAAAA:</b> Code below is so bad, you should never run it\n",
    "</div>\n"
   ]
  },
  {
   "cell_type": "markdown",
   "id": "1b122974",
   "metadata": {},
   "source": [
    "We herby define a function $f(x)$ the following way:\n",
    "```md\n",
    "$$f(x)=\\frac{x-1}{x^2}$$\n",
    "```\n",
    "\n",
    "$$f(x)=\\frac{x-1}{x^2}$$"
   ]
  },
  {
   "cell_type": "markdown",
   "id": "c8b9bfac",
   "metadata": {},
   "source": [
    "Now let's define the integrted number concentration $N_{\\rm tot}$:\n",
    "```md\n",
    "$$N_{\\rm tot}=\\int_{D_{min}}^{D_{max}}\\frac{dN}{d\\log D} d\\log D \\quad\\quad\\quad(1)$$\n",
    "```\n",
    "\n",
    "$N_{\\rm tot}=\\int_{D_{min}}^{D_{max}}\\frac{dN}{d\\log D} d\\log D \\quad\\quad\\quad(1)$"
   ]
  },
  {
   "cell_type": "markdown",
   "id": "83651822",
   "metadata": {},
   "source": [
    "If you do not know MathJax/LaTeX syntax, search for cheatsheets on the web:\n",
    "\n",
    "[Overleaf](https://www.overleaf.com/learn/latex/List_of_Greek_letters_and_math_symbols)\n",
    "\n",
    "[Random cheatsheet](https://jojozhuang.github.io/tutorial/mathjax-cheat-sheet-for-mathematical-notation/)"
   ]
  },
  {
   "cell_type": "markdown",
   "id": "9867454d",
   "metadata": {},
   "source": [
    "<img src=\"Zeppelin.jpg\" alt=\"Alt text that describes the graphic\" title=\"Title text\" />"
   ]
  },
  {
   "cell_type": "markdown",
   "id": "2bf9a0d8",
   "metadata": {},
   "source": [
    "__Figure 1:__ This is a view from Zeppelin Observatory."
   ]
  },
  {
   "cell_type": "markdown",
   "id": "699c657c",
   "metadata": {},
   "source": [
    "# Method\n",
    "\n",
    "Here I will describe my main methods."
   ]
  },
  {
   "cell_type": "markdown",
   "id": "87bfd2d3",
   "metadata": {},
   "source": [
    "## Data description"
   ]
  },
  {
   "cell_type": "markdown",
   "id": "47feb1fb",
   "metadata": {},
   "source": [
    "<div class=\"row\">\n",
    "  <div class=\"column\" style=\"background-color:#aaa;\">\n",
    "    <h2>Column 1</h2>\n",
    "    <p>Some text..</p>\n",
    "  </div>\n",
    "  <div class=\"column\" style=\"background-color:#bbb;\">\n",
    "    <h2>Column 2</h2>\n",
    "    <p>Some text..</p>\n",
    "  </div>\n",
    "</div>"
   ]
  },
  {
   "cell_type": "markdown",
   "id": "b941d07d",
   "metadata": {},
   "source": [
    "### DMPS data"
   ]
  },
  {
   "cell_type": "code",
   "execution_count": null,
   "id": "e645d6f5",
   "metadata": {},
   "outputs": [],
   "source": [
    "import data.py"
   ]
  }
 ],
 "metadata": {
  "kernelspec": {
   "display_name": "Python 3 (ipykernel)",
   "language": "python",
   "name": "python3"
  },
  "language_info": {
   "codemirror_mode": {
    "name": "ipython",
    "version": 3
   },
   "file_extension": ".py",
   "mimetype": "text/x-python",
   "name": "python",
   "nbconvert_exporter": "python",
   "pygments_lexer": "ipython3",
   "version": "3.12.4"
  },
  "varInspector": {
   "cols": {
    "lenName": 16,
    "lenType": 16,
    "lenVar": 40
   },
   "kernels_config": {
    "python": {
     "delete_cmd_postfix": "",
     "delete_cmd_prefix": "del ",
     "library": "var_list.py",
     "varRefreshCmd": "print(var_dic_list())"
    },
    "r": {
     "delete_cmd_postfix": ") ",
     "delete_cmd_prefix": "rm(",
     "library": "var_list.r",
     "varRefreshCmd": "cat(var_dic_list()) "
    }
   },
   "types_to_exclude": [
    "module",
    "function",
    "builtin_function_or_method",
    "instance",
    "_Feature"
   ],
   "window_display": false
  }
 },
 "nbformat": 4,
 "nbformat_minor": 5
}
