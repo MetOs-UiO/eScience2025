{
 "cells": [
  {
   "cell_type": "markdown",
   "id": "fe1f0e72-e809-4df5-95df-286d66cd5edb",
   "metadata": {},
   "source": [
    "# Making your own modules and some numba tips\n",
    "\n",
    "Directory structure:\n",
    "\n",
    "Consider `./` to be your current directory with the structure:\n",
    "```\n",
    "./                              Current directory (always on PYTHONPATH)\n",
    "    mat_utils/                  Top-level directory of your package\n",
    "      __init__.py               Initialize the your package\n",
    "      module1.py                Submodule #1\n",
    "      module2.py                Submodule #2\n",
    "```\n",
    "\n",
    "To run this notebook, create all the directories and files listed above."
   ]
  },
  {
   "cell_type": "markdown",
   "id": "b0c452d9-7543-4605-b5ae-9dd7054b4c14",
   "metadata": {},
   "source": [
    "## What should you put in `__init__.py`\n",
    "\n",
    "You can actually have it empty, however,  a good idea is to add a docstring (They are marked with `\"\"\" \"\"\"`), add `__all__`, so `import *` works. You can also use it as a normal python file, define things there and other package attributes.\n",
    "\n",
    "Contents of `__init__.py` for the module used here:\n",
    "```python\n",
    "# This is a docstring\n",
    "\"\"\"A package with useful functions for my notebooks.\"\"\"\n",
    "__all__ = [\"module1\", \"module2\"]\n",
    "#from . import module1, module2\n",
    "\n",
    "__version__=\"0.0.1\"\n",
    "```"
   ]
  },
  {
   "cell_type": "code",
   "execution_count": 8,
   "id": "4b94dcf7-5bf1-448c-9402-fa3c05770194",
   "metadata": {},
   "outputs": [
    {
     "name": "stdout",
     "output_type": "stream",
     "text": [
      "Help on package mat_utils:\n",
      "\n",
      "NAME\n",
      "    mat_utils - A package with useful functions for my notebooks.\n",
      "\n",
      "PACKAGE CONTENTS\n",
      "    module1\n",
      "    module2\n",
      "\n",
      "DATA\n",
      "    __all__ = ['module1', 'module2']\n",
      "\n",
      "VERSION\n",
      "    0.0.1\n",
      "\n",
      "FILE\n",
      "    /home/fc-3auid-3a41f39e02-2da958-2d4d3b-2d84bd-2d4a2f2886a11b/mods_test/mat_utils/__init__.py\n",
      "\n",
      "\n"
     ]
    }
   ],
   "source": [
    "import mat_utils\n",
    "help(mat_utils)\n",
    "\n",
    "from mat_utils import module1, module2\n",
    "# we can also do the following, since we have __all__ in the __init_.py\n",
    "# from mat_utils import *\n",
    "\n",
    "# this is needed for the module to get autoupdated if you are working on them:\n",
    "%reload_ext autoreload\n",
    "%autoreload 2"
   ]
  },
  {
   "cell_type": "markdown",
   "id": "133b350b-cd8c-47aa-be80-223e2caf2a06",
   "metadata": {},
   "source": [
    "### Functions in `module1`:\n",
    "\n",
    "If you add `docstrings` after the function's definition, they will be picked up by `help()` command. Which is quite useful, when you need to know f.e. arguments a function accepts.\n",
    "\n",
    "```python\n",
    "from numba import njit\n",
    "\n",
    "\"\"\"\n",
    "Just a module :D\n",
    "\"\"\"\n",
    "\n",
    "def my_function():\n",
    "    \"\"\"\n",
    "    function to print from which module it is called\n",
    "    \"\"\"\n",
    "    print(f\"funcntion from module:\",__name__)\n",
    "\n",
    "\n",
    "def slow_loop(n):\n",
    "    \"\"\"\n",
    "    this loop goes slow\n",
    "    Arguments:\n",
    "        n - (float/int) loop length\n",
    "    \"\"\"\n",
    "    j = 0.0\n",
    "    for i in range(int(n)):\n",
    "        j = j + 1.0\n",
    "    return j\n",
    "\n",
    "@njit\n",
    "def fast_loop(n):\n",
    "    \"\"\"\n",
    "    this loop goes slow (precompiled with numba)\n",
    "    Arguments:\n",
    "        n - (float/int) loop length\n",
    "    \"\"\"\n",
    "    j = 0.0\n",
    "    for i in range(int(n)):\n",
    "        j = j + 1.0\n",
    "    return j\n",
    "```\n"
   ]
  },
  {
   "cell_type": "code",
   "execution_count": 19,
   "id": "2411db5c-27d1-4d74-97b5-6a27d662c206",
   "metadata": {},
   "outputs": [
    {
     "name": "stdout",
     "output_type": "stream",
     "text": [
      "Help on module mat_utils.module1 in mat_utils:\n",
      "\n",
      "NAME\n",
      "    mat_utils.module1 - Just a module :D\n",
      "\n",
      "FUNCTIONS\n",
      "    fast_loop(n)\n",
      "        this loop goes slow (precompiled with numba)\n",
      "        Arguments:\n",
      "            n - (float/int) loop length\n",
      "    \n",
      "    my_function()\n",
      "        function to print from which module it is called\n",
      "    \n",
      "    slow_loop(n)\n",
      "        this loop goes slow\n",
      "        Arguments:\n",
      "            n - (float/int) loop length\n",
      "\n",
      "FILE\n",
      "    /home/fc-3auid-3a41f39e02-2da958-2d4d3b-2d84bd-2d4a2f2886a11b/mods_test/mat_utils/module1.py\n",
      "\n",
      "\n",
      "Help on function my_function in module mat_utils.module1:\n",
      "\n",
      "my_function()\n",
      "    function to print from which module it is called\n",
      "\n"
     ]
    }
   ],
   "source": [
    "help(module1)\n",
    "help(module1.my_function)"
   ]
  },
  {
   "cell_type": "markdown",
   "id": "ad669b9e-4269-4ae6-b143-34dff400e4fb",
   "metadata": {},
   "source": [
    "### Updating modules:\n",
    "\n",
    "You can use:\n",
    "```python\n",
    "%reload_ext autoreload\n",
    "%autoreload 2\n",
    "```\n",
    "To autoupdate the modules you have imported in your notebook, while you are working on them."
   ]
  },
  {
   "cell_type": "code",
   "execution_count": 11,
   "id": "c1016842-0a6d-4f7b-80e5-2816bbac1d21",
   "metadata": {},
   "outputs": [
    {
     "name": "stdout",
     "output_type": "stream",
     "text": [
      "funcntion from module: mat_utils.module1\n"
     ]
    }
   ],
   "source": [
    "module1.my_function()"
   ]
  },
  {
   "cell_type": "markdown",
   "id": "7e7b234b-bdf0-4025-a908-b3e61b4a2e38",
   "metadata": {},
   "source": [
    "Now you can update the module by f.e. addin `print(\"extra stuff\")` at the end of `my_function` in `module1` and rerunning it."
   ]
  },
  {
   "cell_type": "code",
   "execution_count": 7,
   "id": "213f6090-cb09-4d25-8f93-a15ba200a9a3",
   "metadata": {},
   "outputs": [
    {
     "name": "stdout",
     "output_type": "stream",
     "text": [
      "funcntion from module:mat_utils.module1\n",
      "extra stuff\n"
     ]
    }
   ],
   "source": [
    "module1.my_function()"
   ]
  },
  {
   "cell_type": "markdown",
   "id": "5c7631aa-7ad5-45a1-96a3-fd341edc5138",
   "metadata": {},
   "source": [
    "### Simple numbla example in the module:"
   ]
  },
  {
   "cell_type": "code",
   "execution_count": 12,
   "id": "8445b2e7-985e-4dae-9b66-41ed04574822",
   "metadata": {},
   "outputs": [
    {
     "name": "stdout",
     "output_type": "stream",
     "text": [
      "Help on function slow_loop in module mat_utils.module1:\n",
      "\n",
      "slow_loop(n)\n",
      "    this loop goes slow\n",
      "    Arguments:\n",
      "        n - (float/int) loop length\n",
      "\n"
     ]
    }
   ],
   "source": [
    "help(module1.slow_loop)"
   ]
  },
  {
   "cell_type": "code",
   "execution_count": 13,
   "id": "d7c943dd-b21e-4716-88ca-acc1db84929d",
   "metadata": {},
   "outputs": [
    {
     "name": "stdout",
     "output_type": "stream",
     "text": [
      "CPU times: user 24.6 s, sys: 187 µs, total: 24.6 s\n",
      "Wall time: 24.7 s\n"
     ]
    },
    {
     "data": {
      "text/plain": [
       "1000000000.0"
      ]
     },
     "execution_count": 13,
     "metadata": {},
     "output_type": "execute_result"
    }
   ],
   "source": [
    "%%time\n",
    "n=1e9\n",
    "a1 = module1.slow_loop(n)\n",
    "a1"
   ]
  },
  {
   "cell_type": "markdown",
   "id": "8aac2fd8-7f10-4aab-8afc-94c53350e967",
   "metadata": {},
   "source": [
    "<div class=\"alert alert-block alert-danger\">\n",
    "<b>Numba:</b>Not all the classes/functions can be njit'd. When using xarray, consider using `guvectorize` and xarray.apply_ufunc.\n",
    "</div>"
   ]
  },
  {
   "cell_type": "code",
   "execution_count": 14,
   "id": "d06876db-5167-407c-8fbb-11d33bf5dbe5",
   "metadata": {},
   "outputs": [
    {
     "name": "stdout",
     "output_type": "stream",
     "text": [
      "CPU times: user 1.17 s, sys: 37.7 ms, total: 1.2 s\n",
      "Wall time: 1.21 s\n"
     ]
    },
    {
     "data": {
      "text/plain": [
       "1000000000.0"
      ]
     },
     "execution_count": 14,
     "metadata": {},
     "output_type": "execute_result"
    }
   ],
   "source": [
    "%%time\n",
    "a2 = module1.fast_loop(n)\n",
    "a2"
   ]
  },
  {
   "cell_type": "markdown",
   "id": "b74222bd-8d15-4cda-ad7a-13e9228b7a6f",
   "metadata": {},
   "source": [
    "#### When you should use numbla?\n",
    "\n",
    "Numba knows about numpy. You can precompile a function that operatates on them.\n",
    "\n",
    "It is also possible to use numba vectorization in xarray.DataSet/DataArray and dask.arrays:\n",
    "\n",
    "You can see a nice example in the [xarray tutorial](https://tutorial.xarray.dev/advanced/apply_ufunc/numba-vectorization.html)"
   ]
  }
 ],
 "metadata": {
  "citation-manager": {
   "items": {}
  },
  "kernelspec": {
   "display_name": "Python [conda env:pangeo-notebook]",
   "language": "python",
   "name": "conda-env-pangeo-notebook-py"
  },
  "language_info": {
   "codemirror_mode": {
    "name": "ipython",
    "version": 3
   },
   "file_extension": ".py",
   "mimetype": "text/x-python",
   "name": "python",
   "nbconvert_exporter": "python",
   "pygments_lexer": "ipython3",
   "version": "3.11.12"
  }
 },
 "nbformat": 4,
 "nbformat_minor": 5
}
