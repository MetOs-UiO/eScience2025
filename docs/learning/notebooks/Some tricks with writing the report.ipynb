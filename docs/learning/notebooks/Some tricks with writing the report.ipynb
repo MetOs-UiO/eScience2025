{
 "cells": [
  {
   "cell_type": "markdown",
   "id": "028448b2",
   "metadata": {},
   "source": [
    "# Some example on how we can can use Latex in Jupyter notebook"
   ]
  },
  {
   "cell_type": "markdown",
   "id": "1b122974",
   "metadata": {},
   "source": [
    "We herby define a function $f(x)$ the following way:\n",
    "$$f(x)=\\frac{x-1}{x^2}$$"
   ]
  },
  {
   "cell_type": "markdown",
   "id": "c8b9bfac",
   "metadata": {},
   "source": [
    "Now let's define the integrted number concentration $N_{\\rm tot}$:\n",
    "$$N_{\\rm tot}=\\int_{D_{min}}^{D_{max}}\\frac{dN}{d\\log D} d\\log D \\quad\\quad\\quad(1)$$"
   ]
  },
  {
   "cell_type": "markdown",
   "id": "9867454d",
   "metadata": {},
   "source": [
    "<img src=\"Zeppelin.jpg\" alt=\"Alt text that describes the graphic\" title=\"Title text\" />"
   ]
  },
  {
   "cell_type": "markdown",
   "id": "2bf9a0d8",
   "metadata": {},
   "source": [
    "__Figure 1:__ This is a view from Zeppelin Observatory."
   ]
  },
  {
   "cell_type": "markdown",
   "id": "699c657c",
   "metadata": {},
   "source": [
    "# Method\n",
    "\n",
    "Here I will describe my main methods."
   ]
  },
  {
   "cell_type": "markdown",
   "id": "87bfd2d3",
   "metadata": {},
   "source": [
    "## Data description"
   ]
  },
  {
   "cell_type": "markdown",
   "id": "47feb1fb",
   "metadata": {},
   "source": [
    "<div class=\"row\">\n",
    "  <div class=\"column\" style=\"background-color:#aaa;\">\n",
    "    <h2>Column 1</h2>\n",
    "    <p>Some text..</p>\n",
    "  </div>\n",
    "  <div class=\"column\" style=\"background-color:#bbb;\">\n",
    "    <h2>Column 2</h2>\n",
    "    <p>Some text..</p>\n",
    "  </div>\n",
    "</div>"
   ]
  },
  {
   "cell_type": "markdown",
   "id": "b941d07d",
   "metadata": {},
   "source": [
    "### DMPS data"
   ]
  },
  {
   "cell_type": "code",
   "execution_count": null,
   "id": "e645d6f5",
   "metadata": {},
   "outputs": [],
   "source": [
    "import data.py"
   ]
  }
 ],
 "metadata": {
  "kernelspec": {
   "display_name": "Python 3 (ipykernel)",
   "language": "python",
   "name": "python3"
  },
  "language_info": {
   "codemirror_mode": {
    "name": "ipython",
    "version": 3
   },
   "file_extension": ".py",
   "mimetype": "text/x-python",
   "name": "python",
   "nbconvert_exporter": "python",
   "pygments_lexer": "ipython3",
   "version": "3.12.4"
  },
  "varInspector": {
   "cols": {
    "lenName": 16,
    "lenType": 16,
    "lenVar": 40
   },
   "kernels_config": {
    "python": {
     "delete_cmd_postfix": "",
     "delete_cmd_prefix": "del ",
     "library": "var_list.py",
     "varRefreshCmd": "print(var_dic_list())"
    },
    "r": {
     "delete_cmd_postfix": ") ",
     "delete_cmd_prefix": "rm(",
     "library": "var_list.r",
     "varRefreshCmd": "cat(var_dic_list()) "
    }
   },
   "types_to_exclude": [
    "module",
    "function",
    "builtin_function_or_method",
    "instance",
    "_Feature"
   ],
   "window_display": false
  }
 },
 "nbformat": 4,
 "nbformat_minor": 5
}
